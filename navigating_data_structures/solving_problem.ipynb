{
 "cells": [
  {
   "cell_type": "code",
   "execution_count": 30,
   "id": "d9930ef3-1d4e-416f-9114-31c310b9de22",
   "metadata": {},
   "outputs": [],
   "source": [
    "\n",
    "def isLeapYear(year):\n",
    "    return  (year%4 == 0 and year%100 != 0) or year%400 == 0\n",
    "       \n",
    "def daysInMonth(year, month):\n",
    "    months = [31,29 if isLeapYear(year)else 28, 31, 30, 31, 30, 31, 31, 30, 31, 30, 31]\n",
    "    # if isLeapYear(year):\n",
    "    #     months[1] = 29\n",
    "    # else:\n",
    "    #     months[1] = 28\n",
    "    return months[month-1]\n",
    "    \n",
    "\n",
    "def nextDay(year, month, day):\n",
    "    \"\"\"\n",
    "    Returns the year, month, day of the next day.\n",
    "    Simple version: assume every month has 30 days.\n",
    "    \"\"\"\n",
    "    if day < daysInMonth(year, month):\n",
    "        return year, month, day+1\n",
    "    else:\n",
    "        if month < 12:\n",
    "            return year, month+1, 1\n",
    "        else:\n",
    "            return year+1, 1,1\n",
    "        \n",
    "def dateIsBefore(year1, month1, day1, year2, month2, day2):\n",
    "    if year1 < year2:\n",
    "        return True\n",
    "    if year1 == year2:\n",
    "        if month1 < month2:\n",
    "            return True\n",
    "        elif month1 == month2:\n",
    "            return day1 < day2\n",
    "        \n",
    "    return False\n",
    "\n",
    "\n",
    "    \n",
    "def daysBetweenDates(year1, month1, day1, year2, month2, day2):\n",
    "    \"\"\"Returns the number of days between year1/month1/day1\n",
    "       and year2/month2/day2. Assumes inputs are valid dates\n",
    "       in Gregorian calendar, and the first date is not after\n",
    "       the second.\"\"\"\n",
    "        \n",
    "    # YOUR CODE HERE!\n",
    "    assert(not dateIsBefore(year2, month2, day2, year1, month1, day1))\n",
    "    days = 0\n",
    "    while dateIsBefore(year1, month1, day1, year2, month2, day2):\n",
    "        year1, month1, day1 = nextDay(year1, month1, day1)\n",
    "        days+=1\n",
    "        \n",
    "    return days\n",
    "        \n",
    "    \n",
    " "
   ]
  },
  {
   "cell_type": "code",
   "execution_count": null,
   "id": "f7ef7569-86b1-4618-80fe-4f91bf30f673",
   "metadata": {},
   "outputs": [],
   "source": []
  }
 ],
 "metadata": {
  "kernelspec": {
   "display_name": "Python 3 (ipykernel)",
   "language": "python",
   "name": "python3"
  },
  "language_info": {
   "codemirror_mode": {
    "name": "ipython",
    "version": 3
   },
   "file_extension": ".py",
   "mimetype": "text/x-python",
   "name": "python",
   "nbconvert_exporter": "python",
   "pygments_lexer": "ipython3",
   "version": "3.7.3"
  }
 },
 "nbformat": 4,
 "nbformat_minor": 5
}
